{
 "cells": [
  {
   "cell_type": "markdown",
   "metadata": {},
   "source": [
    "# Checking runtime\n",
    "This notebook is used to check the runtime of the code on various systems, such as my local system and the GCP with a varying number of nodes."
   ]
  },
  {
   "cell_type": "code",
   "execution_count": 1,
   "metadata": {},
   "outputs": [],
   "source": [
    "#import findspark\n",
    "#findspark.init()\n",
    "#findspark.find()\n",
    "import pyspark\n",
    "#findspark.find()\n",
    "from pyspark.sql.types import *\n",
    "import pandas as pd\n",
    "import matplotlib.pyplot as plt\n",
    "from pyspark.sql import SparkSession\n",
    "from pyspark.context import SparkContext\n",
    "import pyspark.sql.functions as F\n",
    "from datetime import date, timedelta, datetime\n",
    "import time\n",
    "from pyspark import SparkContext, SparkConf\n",
    "#sc = SparkContext()\n",
    "sc.defaultParallelism\n",
    "from pyspark.ml.clustering import KMeans\n",
    "from pyspark.ml.evaluation import ClusteringEvaluator\n",
    "import time"
   ]
  },
  {
   "cell_type": "code",
   "execution_count": 2,
   "metadata": {},
   "outputs": [],
   "source": [
    "schema_structure = StructType([\n",
    "    StructField(\"EXT1\", IntegerType(), True),    \n",
    "    StructField(\"EXT2\", IntegerType(), True),\n",
    "    StructField(\"EXT3\", IntegerType(), True),\n",
    "    StructField(\"EXT4\", IntegerType(), True),\n",
    "    StructField(\"EXT5\", IntegerType(), True),    \n",
    "    StructField(\"EXT6\", IntegerType(), True),\n",
    "    StructField(\"EXT7\", IntegerType(), True),\n",
    "    StructField(\"EXT8\", IntegerType(), True),\n",
    "    StructField(\"EXT9\", IntegerType(), True),    \n",
    "    StructField(\"EXT10\", IntegerType(), True),\n",
    "    StructField(\"EST1\", IntegerType(), True),    \n",
    "    StructField(\"EST2\", IntegerType(), True),\n",
    "    StructField(\"EST3\", IntegerType(), True),\n",
    "    StructField(\"EST4\", IntegerType(), True),\n",
    "    StructField(\"EST5\", IntegerType(), True),    \n",
    "    StructField(\"EST6\", IntegerType(), True),\n",
    "    StructField(\"EST7\", IntegerType(), True),\n",
    "    StructField(\"EST8\", IntegerType(), True),\n",
    "    StructField(\"EST9\", IntegerType(), True),    \n",
    "    StructField(\"EST10\", IntegerType(), True),\n",
    "    StructField(\"ARG1\", IntegerType(), True),    \n",
    "    StructField(\"ARG2\", IntegerType(), True),\n",
    "    StructField(\"ARG3\", IntegerType(), True),\n",
    "    StructField(\"ARG4\", IntegerType(), True),\n",
    "    StructField(\"ARG5\", IntegerType(), True),    \n",
    "    StructField(\"ARG6\", IntegerType(), True),\n",
    "    StructField(\"ARG7\", IntegerType(), True),\n",
    "    StructField(\"ARG8\", IntegerType(), True),\n",
    "    StructField(\"ARG9\", IntegerType(), True),    \n",
    "    StructField(\"ARG10\", IntegerType(), True),\n",
    "    StructField(\"CSN1\", IntegerType(), True),    \n",
    "    StructField(\"CSN2\", IntegerType(), True),\n",
    "    StructField(\"CSN3\", IntegerType(), True),\n",
    "    StructField(\"CSN4\", IntegerType(), True),\n",
    "    StructField(\"CSN5\", IntegerType(), True),    \n",
    "    StructField(\"CSN6\", IntegerType(), True),\n",
    "    StructField(\"CSN7\", IntegerType(), True),\n",
    "    StructField(\"CSN8\", IntegerType(), True),\n",
    "    StructField(\"CSN9\", IntegerType(), True),    \n",
    "    StructField(\"CSN10\", IntegerType(), True),\n",
    "    StructField(\"OPN1\", IntegerType(), True),    \n",
    "    StructField(\"OPN2\", IntegerType(), True),\n",
    "    StructField(\"OPN3\", IntegerType(), True),\n",
    "    StructField(\"OPN4\", IntegerType(), True),\n",
    "    StructField(\"OPN5\", IntegerType(), True),    \n",
    "    StructField(\"OPN6\", IntegerType(), True),\n",
    "    StructField(\"OPN7\", IntegerType(), True),\n",
    "    StructField(\"OPN8\", IntegerType(), True),\n",
    "    StructField(\"OPN9\", IntegerType(), True),    \n",
    "    StructField(\"OPN10\", IntegerType(), True),\n",
    "    StructField(\"EXT1_E\", IntegerType(), True),    \n",
    "    StructField(\"EXT2_E\", IntegerType(), True),\n",
    "    StructField(\"EXT3_E\", IntegerType(), True),\n",
    "    StructField(\"EXT4_E\", IntegerType(), True),\n",
    "    StructField(\"EXT5_E\", IntegerType(), True),    \n",
    "    StructField(\"EXT6_E\", IntegerType(), True),\n",
    "    StructField(\"EXT7_E\", IntegerType(), True),\n",
    "    StructField(\"EXT8_E\", IntegerType(), True),\n",
    "    StructField(\"EXT9_E\", IntegerType(), True),    \n",
    "    StructField(\"EXT10_E\", IntegerType(), True),\n",
    "    StructField(\"EST1_E\", IntegerType(), True),    \n",
    "    StructField(\"EST2_E\", IntegerType(), True),\n",
    "    StructField(\"EST3_E\", IntegerType(), True),\n",
    "    StructField(\"EST4_E\", IntegerType(), True),\n",
    "    StructField(\"EST5_E\", IntegerType(), True),    \n",
    "    StructField(\"EST6_E\", IntegerType(), True),\n",
    "    StructField(\"EST7_E\", IntegerType(), True),\n",
    "    StructField(\"EST8_E\", IntegerType(), True),\n",
    "    StructField(\"EST9_E\", IntegerType(), True),    \n",
    "    StructField(\"EST10_E\", IntegerType(), True),\n",
    "    StructField(\"ARG1_E\", IntegerType(), True),    \n",
    "    StructField(\"ARG2_E\", IntegerType(), True),\n",
    "    StructField(\"ARG3_E\", IntegerType(), True),\n",
    "    StructField(\"ARG4_E\", IntegerType(), True),\n",
    "    StructField(\"ARG5_E\", IntegerType(), True),    \n",
    "    StructField(\"ARG6_E\", IntegerType(), True),\n",
    "    StructField(\"ARG7_E\", IntegerType(), True),\n",
    "    StructField(\"ARG8_E\", IntegerType(), True),\n",
    "    StructField(\"ARG9_E\", IntegerType(), True),    \n",
    "    StructField(\"ARG10_E\", IntegerType(), True),\n",
    "    StructField(\"CSN1_E\", IntegerType(), True),    \n",
    "    StructField(\"CSN2_E\", IntegerType(), True),\n",
    "    StructField(\"CSN3_E\", IntegerType(), True),\n",
    "    StructField(\"CSN4_E\", IntegerType(), True),\n",
    "    StructField(\"CSN5_E\", IntegerType(), True),    \n",
    "    StructField(\"CSN6_E\", IntegerType(), True),\n",
    "    StructField(\"CSN7_E\", IntegerType(), True),\n",
    "    StructField(\"CSN8_E\", IntegerType(), True),\n",
    "    StructField(\"CSN9_E\", IntegerType(), True),    \n",
    "    StructField(\"CSN10_E\", IntegerType(), True),\n",
    "    StructField(\"OPN1_E\", IntegerType(), True),    \n",
    "    StructField(\"OPN2_E\", IntegerType(), True),\n",
    "    StructField(\"OPN3_E\", IntegerType(), True),\n",
    "    StructField(\"OPN4_E\", IntegerType(), True),\n",
    "    StructField(\"OPN5_E\", IntegerType(), True),    \n",
    "    StructField(\"OPN6_E\", IntegerType(), True),\n",
    "    StructField(\"OPN7_E\", IntegerType(), True),\n",
    "    StructField(\"OPN8_E\", IntegerType(), True),\n",
    "    StructField(\"OPN9_E\", IntegerType(), True),    \n",
    "    StructField(\"OPN10_E\", IntegerType(), True),\n",
    "    StructField(\"dateload\", StringType(), True),    \n",
    "    StructField(\"screenw\", StringType(), True),\n",
    "    StructField(\"screenH\", StringType(), True),\n",
    "    StructField(\"introelapse\", StringType(), True),\n",
    "    StructField(\"testelapse\", StringType(), True),    \n",
    "    StructField(\"endelapse\", StringType(), True),\n",
    "    StructField(\"IPC\", IntegerType(), True),\n",
    "    StructField(\"country\", StringType(), True),\n",
    "    StructField(\"lat_appx_lots_of_err\", StringType(), True),    \n",
    "    StructField(\"long_appx_lots_of_err\", StringType(), True)\n",
    "])"
   ]
  },
  {
   "cell_type": "code",
   "execution_count": 3,
   "metadata": {},
   "outputs": [
    {
     "name": "stdout",
     "output_type": "stream",
     "text": [
      "695290\n"
     ]
    }
   ],
   "source": [
    "#df = spark.read.csv(\"data-final.csv\",sep=',', header = True, schema=schema_structure)\n",
    "df = spark.read.csv(\"gs://abhinav-bucket/data-final.csv\",sep=',', header = True, schema=schema_structure)\n",
    "df = df.dropna()\n",
    "df = df.filter(\"IPC <= 2\")\n",
    "list_colomns = df.columns[:50]\n",
    "filter1 = ' and '.join('(%s != 0)'% col for col in list_colomns)\n",
    "df = df.filter(filter1)\n",
    "print(df.count())"
   ]
  },
  {
   "cell_type": "code",
   "execution_count": 5,
   "metadata": {
    "collapsed": true
   },
   "outputs": [
    {
     "name": "stdout",
     "output_type": "stream",
     "text": [
      "+----+----+----+----+----+----+----+----+----+-----+----+----+----+----+----+----+----+----+----+-----+----+----+----+----+----+----+----+----+----+-----+----+----+----+----+----+----+----+----+----+-----+----+----+----+----+----+----+----+----+----+-----+\n",
      "|EXT1|EXT2|EXT3|EXT4|EXT5|EXT6|EXT7|EXT8|EXT9|EXT10|EST1|EST2|EST3|EST4|EST5|EST6|EST7|EST8|EST9|EST10|ARG1|ARG2|ARG3|ARG4|ARG5|ARG6|ARG7|ARG8|ARG9|ARG10|CSN1|CSN2|CSN3|CSN4|CSN5|CSN6|CSN7|CSN8|CSN9|CSN10|OPN1|OPN2|OPN3|OPN4|OPN5|OPN6|OPN7|OPN8|OPN9|OPN10|\n",
      "+----+----+----+----+----+----+----+----+----+-----+----+----+----+----+----+----+----+----+----+-----+----+----+----+----+----+----+----+----+----+-----+----+----+----+----+----+----+----+----+----+-----+----+----+----+----+----+----+----+----+----+-----+\n",
      "|   4|   1|   5|   2|   5|   1|   5|   2|   4|    1|   1|   4|   4|   2|   2|   2|   2|   2|   3|    2|   2|   5|   2|   4|   2|   3|   2|   4|   3|    4|   3|   4|   3|   2|   2|   4|   4|   2|   4|    4|   5|   1|   4|   1|   4|   1|   5|   3|   4|    5|\n",
      "|   3|   5|   3|   4|   3|   3|   2|   5|   1|    5|   2|   3|   4|   1|   3|   1|   2|   1|   3|    1|   1|   4|   1|   5|   1|   5|   3|   4|   5|    3|   3|   2|   5|   3|   3|   1|   3|   3|   5|    3|   1|   2|   4|   2|   3|   1|   4|   2|   5|    3|\n",
      "|   2|   3|   4|   4|   3|   2|   1|   3|   2|    5|   4|   4|   4|   2|   2|   2|   2|   2|   1|    3|   1|   4|   1|   4|   2|   4|   1|   4|   4|    3|   4|   2|   2|   2|   3|   3|   4|   2|   4|    2|   5|   1|   2|   1|   4|   2|   5|   3|   4|    4|\n",
      "|   2|   2|   2|   3|   4|   2|   2|   4|   1|    4|   3|   3|   3|   2|   3|   2|   2|   2|   4|    3|   2|   4|   3|   4|   2|   4|   2|   4|   3|    4|   2|   4|   4|   4|   1|   2|   2|   3|   1|    4|   4|   2|   5|   2|   3|   1|   4|   4|   3|    3|\n",
      "|   3|   3|   3|   3|   5|   3|   3|   5|   3|    4|   1|   5|   5|   3|   1|   1|   1|   1|   3|    2|   1|   5|   1|   5|   1|   3|   1|   5|   5|    3|   5|   1|   5|   1|   3|   1|   5|   1|   5|    5|   5|   1|   5|   1|   5|   1|   5|   3|   5|    5|\n",
      "|   3|   3|   4|   2|   4|   2|   2|   3|   3|    4|   3|   4|   3|   2|   2|   1|   2|   1|   2|    2|   2|   3|   1|   4|   2|   3|   2|   3|   4|    4|   3|   2|   4|   1|   3|   2|   4|   3|   4|    3|   5|   1|   5|   1|   3|   1|   5|   4|   5|    2|\n",
      "|   4|   3|   4|   3|   3|   3|   5|   3|   4|    3|   2|   4|   4|   2|   4|   2|   2|   2|   4|    4|   1|   2|   1|   5|   3|   5|   3|   4|   4|    5|   3|   2|   4|   2|   1|   4|   4|   2|   2|    5|   5|   2|   4|   3|   4|   1|   5|   5|   4|    4|\n",
      "|   3|   1|   5|   2|   5|   2|   5|   2|   3|    2|   2|   4|   2|   4|   2|   1|   2|   1|   1|    1|   2|   5|   2|   4|   3|   2|   2|   4|   4|    4|   5|   1|   5|   1|   4|   2|   3|   2|   5|    5|   4|   1|   3|   1|   5|   1|   4|   3|   4|    5|\n",
      "|   1|   5|   3|   5|   2|   3|   2|   4|   5|    4|   3|   3|   3|   3|   4|   3|   3|   3|   3|    3|   5|   3|   5|   1|   5|   3|   4|   2|   3|    2|   2|   5|   1|   5|   1|   4|   3|   4|   2|    2|   3|   1|   3|   1|   3|   3|   4|   3|   3|    3|\n",
      "|   3|   3|   2|   3|   3|   2|   4|   3|   3|    5|   4|   3|   4|   1|   2|   3|   5|   4|   4|    5|   2|   5|   3|   4|   2|   3|   1|   3|   4|    2|   1|   5|   5|   5|   1|   5|   3|   1|   1|    5|   5|   1|   5|   1|   5|   1|   5|   5|   5|    5|\n",
      "|   3|   1|   5|   3|   5|   1|   5|   5|   5|    3|   5|   1|   3|   1|   5|   5|   5|   5|   5|    3|   2|   5|   5|   3|   3|   5|   3|   5|   5|    5|   5|   5|   5|   3|   5|   5|   5|   3|   3|    5|   4|   1|   5|   1|   5|   3|   1|   5|   5|    5|\n",
      "|   4|   1|   5|   4|   5|   1|   4|   1|   5|    2|   1|   5|   1|   2|   1|   1|   5|   4|   1|    5|   1|   5|   2|   5|   1|   4|   1|   5|   5|    5|   2|   4|   5|   4|   2|   3|   1|   4|   1|    2|   5|   1|   5|   1|   4|   1|   5|   5|   5|    5|\n",
      "|   1|   5|   2|   5|   1|   4|   1|   2|   2|    5|   4|   3|   5|   1|   4|   4|   4|   2|   4|    5|   2|   5|   4|   5|   1|   5|   2|   4|   5|    5|   4|   4|   2|   4|   2|   3|   4|   1|   4|    5|   5|   4|   5|   5|   4|   1|   4|   4|   5|    5|\n",
      "|   2|   1|   3|   4|   4|   3|   5|   3|   3|    5|   4|   2|   3|   3|   3|   4|   3|   3|   5|    5|   5|   5|   5|   5|   2|   3|   3|   3|   4|    5|   3|   3|   4|   4|   4|   2|   3|   3|   4|    5|   5|   2|   5|   3|   4|   1|   3|   3|   5|    5|\n",
      "|   1|   4|   2|   4|   2|   3|   2|   4|   2|    4|   4|   3|   4|   2|   4|   4|   3|   3|   4|    4|   2|   3|   3|   3|   3|   4|   3|   4|   4|    3|   2|   2|   3|   3|   2|   4|   3|   2|   2|    3|   4|   2|   4|   3|   4|   2|   4|   3|   4|    4|\n",
      "|   5|   1|   5|   2|   5|   1|   5|   3|   5|    4|   4|   1|   4|   2|   4|   4|   4|   4|   5|    4|   3|   3|   4|   3|   2|   5|   1|   4|   4|    4|   4|   1|   5|   1|   5|   5|   5|   1|   5|    5|   4|   5|   3|   5|   4|   3|   5|   4|   2|    3|\n",
      "|   3|   3|   2|   3|   4|   3|   1|   5|   1|    2|   5|   1|   5|   1|   3|   3|   4|   3|   5|    4|   2|   4|   4|   4|   2|   4|   3|   3|   4|    3|   4|   3|   4|   2|   3|   2|   4|   2|   3|    4|   3|   2|   4|   3|   3|   2|   3|   3|   4|    3|\n",
      "|   3|   2|   2|   4|   4|   4|   5|   3|   1|    3|   3|   3|   4|   4|   3|   3|   5|   4|   3|    4|   1|   5|   1|   4|   5|   3|   2|   3|   4|    2|   3|   3|   2|   2|   2|   2|   4|   3|   2|    2|   3|   4|   3|   2|   2|   5|   3|   2|   1|    2|\n",
      "|   1|   4|   3|   4|   2|   3|   2|   5|   2|    5|   3|   4|   4|   3|   2|   3|   2|   2|   2|    1|   1|   4|   1|   5|   2|   4|   2|   5|   4|    3|   4|   1|   4|   1|   2|   2|   4|   2|   3|    3|   2|   2|   3|   2|   3|   3|   3|   1|   5|    3|\n",
      "|   1|   5|   1|   4|   1|   5|   1|   5|   1|    5|   5|   1|   5|   1|   4|   5|   3|   2|   5|    5|   1|   3|   2|   4|   2|   3|   2|   4|   5|    2|   4|   2|   5|   4|   2|   2|   3|   2|   2|    3|   4|   2|   4|   3|   2|   3|   5|   4|   5|    2|\n",
      "+----+----+----+----+----+----+----+----+----+-----+----+----+----+----+----+----+----+----+----+-----+----+----+----+----+----+----+----+----+----+-----+----+----+----+----+----+----+----+----+----+-----+----+----+----+----+----+----+----+----+----+-----+\n",
      "only showing top 20 rows\n",
      "\n"
     ]
    }
   ],
   "source": [
    "df1 = df.select(df.columns[:50])\n",
    "df1.show()"
   ]
  },
  {
   "cell_type": "code",
   "execution_count": 7,
   "metadata": {},
   "outputs": [],
   "source": [
    "from pyspark.ml.feature import VectorAssembler \n",
    "vecAssembler = VectorAssembler(inputCols=df1.schema.names, outputCol=\"features\")\n",
    "new_df = vecAssembler.transform(df1)\n",
    "data = new_df.select('features')"
   ]
  },
  {
   "cell_type": "markdown",
   "metadata": {},
   "source": [
    "## For regular K-means"
   ]
  },
  {
   "cell_type": "code",
   "execution_count": 8,
   "metadata": {},
   "outputs": [
    {
     "name": "stdout",
     "output_type": "stream",
     "text": [
      "('Cluster size:', '5')\n",
      "Silhouette with squared euclidean distance = 0.113678992019\n",
      "Average cost = 38405206.4238\n",
      "('For', '5', 'clusters', '--- 156.694866896 seconds ---')\n",
      "('Cluster size:', '10')\n",
      "Silhouette with squared euclidean distance = 0.0882474392865\n",
      "Average cost = 35527858.0451\n",
      "('For', '10', 'clusters', '--- 152.07389307 seconds ---')\n",
      "('Cluster size:', '20')\n",
      "Silhouette with squared euclidean distance = 0.065313307128\n",
      "Average cost = 33191345.973\n",
      "('For', '20', 'clusters', '--- 176.692116022 seconds ---')\n",
      "('Cluster size:', '30')\n",
      "Silhouette with squared euclidean distance = 0.0549372331866\n",
      "Average cost = 32009356.4315\n",
      "('For', '30', 'clusters', '--- 204.54344511 seconds ---')\n"
     ]
    }
   ],
   "source": [
    "iterations = 5\n",
    "evaluator = ClusteringEvaluator()\n",
    "for i in [5, 10, 20, 30]:\n",
    "    print (\"Cluster size:\", str(i))\n",
    "    start_time = time.time()\n",
    "    avg_cost = 0\n",
    "    avg_silhouette = 0\n",
    "    for j in range (iterations):\n",
    "        kmeans_normal = KMeans(k=i, seed=1)\n",
    "        model = kmeans_normal.fit(data)\n",
    "        # Make predictions\n",
    "        predictions = model.transform(data)\n",
    "        # Evaluate clustering by computing Silhouette score\n",
    "        avg_cost += model.computeCost(data)/iterations\n",
    "        avg_silhouette += evaluator.evaluate(predictions)/iterations\n",
    "    print(\"Silhouette with squared euclidean distance = \" + str(avg_silhouette))\n",
    "    print(\"Average cost = \" + str(avg_cost))\n",
    "    print(\"For\", str(i), \"clusters\", \"--- %s seconds ---\" % (time.time() - start_time))"
   ]
  },
  {
   "cell_type": "markdown",
   "metadata": {},
   "source": [
    "## For K-means||"
   ]
  },
  {
   "cell_type": "code",
   "execution_count": null,
   "metadata": {},
   "outputs": [],
   "source": [
    "for i in [5, 10, 20, 30]:\n",
    "    print (\"Cluster size:\", str(i))\n",
    "    start_time = time.time()\n",
    "    avg_cost = 0\n",
    "    avg_silhouette = 0\n",
    "    for j in range (iterations):\n",
    "        kmeans1 = KMeans(k=i, initMode='k-means||', initSteps=2, seed=None) # Kmeans ++\n",
    "        model = kmeans1.fit(data)\n",
    "        # Make predictions\n",
    "        predictions = model.transform(data)\n",
    "        # Evaluate clustering by computing Silhouette score\n",
    "        avg_cost += model.computeCost(data)/iterations\n",
    "        avg_silhouette += evaluator.evaluate(predictions)/iterations\n",
    "    print(\"Silhouette with squared euclidean distance = \" + str(avg_silhouette))\n",
    "    print(\"Average cost = \" + str(avg_cost))\n",
    "    print(\"For\", str(i), \"clusters\", \"--- %s seconds ---\" % (time.time() - start_time))"
   ]
  },
  {
   "cell_type": "code",
   "execution_count": null,
   "metadata": {},
   "outputs": [],
   "source": [
    "replications = 10\n",
    "data1 = data\n",
    "for i in range(replications):\n",
    "    data1 = data1.union(data)\n",
    "\n",
    "#print(data1.count())"
   ]
  },
  {
   "cell_type": "code",
   "execution_count": null,
   "metadata": {},
   "outputs": [],
   "source": [
    "data1 = data1.dropna()\n",
    "#print(data1.count())"
   ]
  },
  {
   "cell_type": "code",
   "execution_count": null,
   "metadata": {},
   "outputs": [
    {
     "name": "stdout",
     "output_type": "stream",
     "text": [
      "('Cluster size:', '5')\n",
      "Average cost = 84521586.9673\n",
      "('For', '5', 'clusters', '--- 73.6720619202 seconds ---')\n",
      "('Cluster size:', '10')\n",
      "Average cost = 78404645.1269\n",
      "('For', '10', 'clusters', '--- 74.6795310974 seconds ---')\n",
      "('Cluster size:', '20')\n",
      "Average cost = 72940003.773\n",
      "('For', '20', 'clusters', '--- 93.577849865 seconds ---')\n",
      "('Cluster size:', '30')\n",
      "Average cost = 70486197.7559\n",
      "('For', '30', 'clusters', '--- 112.249798059 seconds ---')\n"
     ]
    }
   ],
   "source": [
    "for i in [5, 10, 20, 30]:\n",
    "    print (\"Cluster size:\", str(i))\n",
    "    start_time = time.time()\n",
    "    kmeans_normal = KMeans(k=i, seed=1)\n",
    "    model = kmeans_normal.fit(data1)\n",
    "    # Make predictions\n",
    "    predictions = model.transform(data1)\n",
    "        \n",
    "    avg_cost = model.computeCost(data1)\n",
    "    print(\"Average cost = \" + str(avg_cost))\n",
    "    print(\"For\", str(i), \"clusters\", \"--- %s seconds ---\" % (time.time() - start_time))"
   ]
  },
  {
   "cell_type": "code",
   "execution_count": null,
   "metadata": {},
   "outputs": [
    {
     "name": "stdout",
     "output_type": "stream",
     "text": [
      "('Cluster size:', '5')\n",
      "Average cost = 72816303.1485\n",
      "('For', '5', 'clusters', '--- 94.3930900097 seconds ---')\n",
      "('Cluster size:', '10')\n",
      "Average cost = 72816303.1485\n",
      "('For', '10', 'clusters', '--- 93.8579931259 seconds ---')\n",
      "('Cluster size:', '20')\n",
      "Average cost = 72816303.1485\n",
      "('For', '20', 'clusters', '--- 95.0751299858 seconds ---')\n",
      "('Cluster size:', '30')\n",
      "Average cost = 72816303.1485\n",
      "('For', '30', 'clusters', '--- 92.3226969242 seconds ---')\n"
     ]
    }
   ],
   "source": [
    "for i in [5, 10, 20, 30]:\n",
    "    print (\"Cluster size:\", str(i))\n",
    "    start_time = time.time()\n",
    "    kmeans1 = KMeans(k=i, initMode='k-means||', initSteps=2, seed=None) # Kmeans ++\n",
    "    model = kmeans1.fit(data1)\n",
    "    # Make predictions\n",
    "    predictions = model.transform(data1)\n",
    "        \n",
    "    avg_cost = model.computeCost(data1)\n",
    "    print(\"Average cost = \" + str(avg_cost))\n",
    "    print(\"For\", str(i), \"clusters\", \"--- %s seconds ---\" % (time.time() - start_time))"
   ]
  },
  {
   "cell_type": "code",
   "execution_count": null,
   "metadata": {},
   "outputs": [],
   "source": []
  }
 ],
 "metadata": {
  "kernelspec": {
   "display_name": "Python 3",
   "language": "python",
   "name": "python3"
  },
  "language_info": {
   "codemirror_mode": {
    "name": "ipython",
    "version": 3
   },
   "file_extension": ".py",
   "mimetype": "text/x-python",
   "name": "python",
   "nbconvert_exporter": "python",
   "pygments_lexer": "ipython3",
   "version": "3.7.7"
  }
 },
 "nbformat": 4,
 "nbformat_minor": 4
}
